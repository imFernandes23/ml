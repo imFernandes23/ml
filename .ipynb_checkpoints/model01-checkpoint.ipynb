{
 "cells": [
  {
   "cell_type": "code",
   "execution_count": 1,
   "id": "53c3684a",
   "metadata": {},
   "outputs": [],
   "source": [
    "import tensorflow as tf\n",
    "from tensorflow import keras\n",
    "from keras.layers import Dense\n",
    "import numpy as np\n",
    "import pandas as pd\n",
    "import matplotlib.pyplot as plt"
   ]
  },
  {
   "cell_type": "code",
   "execution_count": 2,
   "id": "73df138c",
   "metadata": {},
   "outputs": [],
   "source": [
    "mnist = keras.datasets.mnist\n",
    "(X_train_full, y_train_full),(X_test, y_test) = mnist.load_data()"
   ]
  },
  {
   "cell_type": "code",
   "execution_count": 3,
   "id": "1d39b6d9",
   "metadata": {},
   "outputs": [
    {
     "data": {
      "text/plain": [
       "(10000,)"
      ]
     },
     "execution_count": 3,
     "metadata": {},
     "output_type": "execute_result"
    }
   ],
   "source": [
    "y_test.shape"
   ]
  },
  {
   "cell_type": "code",
   "execution_count": 4,
   "id": "21d0b2c3",
   "metadata": {},
   "outputs": [
    {
     "data": {
      "text/plain": [
       "dtype('uint8')"
      ]
     },
     "execution_count": 4,
     "metadata": {},
     "output_type": "execute_result"
    }
   ],
   "source": [
    "X_train_full.dtype"
   ]
  },
  {
   "cell_type": "code",
   "execution_count": 5,
   "id": "b04bce34",
   "metadata": {},
   "outputs": [],
   "source": [
    "X_valid, X_train = X_train_full[:5000] / 255.0, X_train_full[5000:] / 255.0\n",
    "y_valid, y_train = y_train_full[:5000], y_train_full[5000:]"
   ]
  },
  {
   "cell_type": "code",
   "execution_count": 6,
   "id": "d9a99677",
   "metadata": {},
   "outputs": [],
   "source": [
    "def show_numbers(index, X_array, y_array):\n",
    "    imagem = X_array[index]\n",
    "    img = imagem.reshape(28,28)\n",
    "    plt.imshow(img, cmap = plt.cm.binary,interpolation=\"nearest\")\n",
    "    plt.axis(\"off\")\n",
    "    plt.show()\n",
    "    print(y_array[index])"
   ]
  },
  {
   "cell_type": "code",
   "execution_count": 7,
   "id": "e7ce7004",
   "metadata": {},
   "outputs": [
    {
     "data": {
      "image/png": "[encoded data removed]",
      "text/plain": [
       "<Figure size 432x288 with 1 Axes>"
      ]
     },
     "metadata": {
      "needs_background": "light"
     },
     "output_type": "display_data"
    },
    {
     "name": "stdout",
     "output_type": "stream",
     "text": [
      "2\n"
     ]
    }
   ],
   "source": [
    "example = show_numbers(1, X_test, y_test)"
   ]
  },
  {
   "cell_type": "code",
   "execution_count": 8,
   "id": "a9f9335b",
   "metadata": {},
   "outputs": [],
   "source": [
    "#modelo simples apenas para fins de teste\n",
    "\n",
    "model = keras.models.Sequential([\n",
    "    keras.layers.Flatten(input_shape=[28,28]),\n",
    "    keras.layers.Dense(300, activation = \"relu\"),\n",
    "    keras.layers.Dense(100, activation = \"relu\"),\n",
    "    keras.layers.Dense(10, activation = \"softmax\")\n",
    "])"
   ]
  },
  {
   "cell_type": "code",
   "execution_count": 9,
   "id": "c6315b53",
   "metadata": {},
   "outputs": [],
   "source": [
    "#compilação e parametros de treino do modelo\n",
    "model.compile(loss = \"sparse_categorical_crossentropy\", #Classe são esparças e n são one-hot, binarias, ACHO que deve ser a melhor loss\n",
    "              optimizer = \"sgd\", #gradiente descendete estocastico simples, alg de retropropagação\n",
    "              metrics = [\"accuracy\"] #paramnetro de evolução \n",
    "                ) "
   ]
  },
  {
   "cell_type": "code",
   "execution_count": 10,
   "id": "63f68a19",
   "metadata": {
    "scrolled": true
   },
   "outputs": [
    {
     "name": "stdout",
     "output_type": "stream",
     "text": [
      "Epoch 1/30\n",
      "1719/1719 [==============================] - 3s 2ms/step - loss: 0.6198 - accuracy: 0.8429 - val_loss: 0.3100 - val_accuracy: 0.9140\n",
      "Epoch 2/30\n",
      "1719/1719 [==============================] - 3s 2ms/step - loss: 0.2868 - accuracy: 0.9189 - val_loss: 0.2385 - val_accuracy: 0.9320\n",
      "Epoch 3/30\n",
      "1719/1719 [==============================] - 3s 2ms/step - loss: 0.2343 - accuracy: 0.9340 - val_loss: 0.2016 - val_accuracy: 0.9436\n",
      "Epoch 4/30\n",
      "1719/1719 [==============================] - 3s 2ms/step - loss: 0.1997 - accuracy: 0.9431 - val_loss: 0.1806 - val_accuracy: 0.9490\n",
      "Epoch 5/30\n",
      "1719/1719 [==============================] - 3s 2ms/step - loss: 0.1743 - accuracy: 0.9501 - val_loss: 0.1572 - val_accuracy: 0.9562\n",
      "Epoch 6/30\n",
      "1719/1719 [==============================] - 3s 2ms/step - loss: 0.1545 - accuracy: 0.9554 - val_loss: 0.1447 - val_accuracy: 0.9610\n",
      "Epoch 7/30\n",
      "1719/1719 [==============================] - 3s 2ms/step - loss: 0.1383 - accuracy: 0.9610 - val_loss: 0.1351 - val_accuracy: 0.9628\n",
      "Epoch 8/30\n",
      "1719/1719 [==============================] - 3s 2ms/step - loss: 0.1250 - accuracy: 0.9645 - val_loss: 0.1238 - val_accuracy: 0.9658\n",
      "Epoch 9/30\n",
      "1719/1719 [==============================] - 3s 2ms/step - loss: 0.1139 - accuracy: 0.9677 - val_loss: 0.1157 - val_accuracy: 0.9682\n",
      "Epoch 10/30\n",
      "1719/1719 [==============================] - 3s 2ms/step - loss: 0.1038 - accuracy: 0.9710 - val_loss: 0.1110 - val_accuracy: 0.9686\n",
      "Epoch 11/30\n",
      "1719/1719 [==============================] - 3s 2ms/step - loss: 0.0957 - accuracy: 0.9735 - val_loss: 0.1046 - val_accuracy: 0.9716\n",
      "Epoch 12/30\n",
      "1719/1719 [==============================] - 3s 2ms/step - loss: 0.0885 - accuracy: 0.9754 - val_loss: 0.0999 - val_accuracy: 0.9726\n",
      "Epoch 13/30\n",
      "1719/1719 [==============================] - 3s 2ms/step - loss: 0.0816 - accuracy: 0.9775 - val_loss: 0.0948 - val_accuracy: 0.9732\n",
      "Epoch 14/30\n",
      "1719/1719 [==============================] - 3s 2ms/step - loss: 0.0760 - accuracy: 0.9789 - val_loss: 0.0930 - val_accuracy: 0.9746\n",
      "Epoch 15/30\n",
      "1719/1719 [==============================] - 3s 2ms/step - loss: 0.0705 - accuracy: 0.9804 - val_loss: 0.0931 - val_accuracy: 0.9748\n",
      "Epoch 16/30\n",
      "1719/1719 [==============================] - 3s 2ms/step - loss: 0.0659 - accuracy: 0.9817 - val_loss: 0.0852 - val_accuracy: 0.9758\n",
      "Epoch 17/30\n",
      "1719/1719 [==============================] - 3s 2ms/step - loss: 0.0615 - accuracy: 0.9832 - val_loss: 0.0852 - val_accuracy: 0.9764\n",
      "Epoch 18/30\n",
      "1719/1719 [==============================] - 3s 2ms/step - loss: 0.0574 - accuracy: 0.9846 - val_loss: 0.0796 - val_accuracy: 0.9786\n",
      "Epoch 19/30\n",
      "1719/1719 [==============================] - 4s 2ms/step - loss: 0.0535 - accuracy: 0.9854 - val_loss: 0.0795 - val_accuracy: 0.9776\n",
      "Epoch 20/30\n",
      "1719/1719 [==============================] - 3s 2ms/step - loss: 0.0503 - accuracy: 0.9867 - val_loss: 0.0785 - val_accuracy: 0.9780\n",
      "Epoch 21/30\n",
      "1719/1719 [==============================] - 3s 2ms/step - loss: 0.0474 - accuracy: 0.9878 - val_loss: 0.0781 - val_accuracy: 0.9782\n",
      "Epoch 22/30\n",
      "1719/1719 [==============================] - 3s 2ms/step - loss: 0.0444 - accuracy: 0.9882 - val_loss: 0.0760 - val_accuracy: 0.9798\n",
      "Epoch 23/30\n",
      "1719/1719 [==============================] - 3s 2ms/step - loss: 0.0417 - accuracy: 0.9892 - val_loss: 0.0753 - val_accuracy: 0.9792\n",
      "Epoch 24/30\n",
      "1719/1719 [==============================] - 3s 2ms/step - loss: 0.0388 - accuracy: 0.9904 - val_loss: 0.0726 - val_accuracy: 0.9800\n",
      "Epoch 25/30\n",
      "1719/1719 [==============================] - 3s 2ms/step - loss: 0.0367 - accuracy: 0.9906 - val_loss: 0.0729 - val_accuracy: 0.9794\n",
      "Epoch 26/30\n",
      "1719/1719 [==============================] - 3s 2ms/step - loss: 0.0346 - accuracy: 0.9913 - val_loss: 0.0712 - val_accuracy: 0.9802\n",
      "Epoch 27/30\n",
      "1719/1719 [==============================] - 3s 2ms/step - loss: 0.0324 - accuracy: 0.9922 - val_loss: 0.0710 - val_accuracy: 0.9808\n",
      "Epoch 28/30\n",
      "1719/1719 [==============================] - 3s 2ms/step - loss: 0.0304 - accuracy: 0.9931 - val_loss: 0.0699 - val_accuracy: 0.9798\n",
      "Epoch 29/30\n",
      "1719/1719 [==============================] - 3s 2ms/step - loss: 0.0288 - accuracy: 0.9934 - val_loss: 0.0697 - val_accuracy: 0.9794\n",
      "Epoch 30/30\n",
      "1719/1719 [==============================] - 3s 2ms/step - loss: 0.0272 - accuracy: 0.9937 - val_loss: 0.0709 - val_accuracy: 0.9802\n"
     ]
    }
   ],
   "source": [
    "#treino supers simples, somente para fins de criar um modelo\n",
    "history = model.fit(X_train, y_train, epochs = 30,\n",
    "                   validation_data = (X_valid, y_valid))"
   ]
  },
  {
   "cell_type": "code",
   "execution_count": 11,
   "id": "e483748e",
   "metadata": {},
   "outputs": [
    {
     "data": {
      "image/png": "[encoded data removed]",
      "text/plain": [
       "<Figure size 576x360 with 1 Axes>"
      ]
     },
     "metadata": {
      "needs_background": "light"
     },
     "output_type": "display_data"
    }
   ],
   "source": [
    "pd.DataFrame(history.history).plot(figsize = (8,5))\n",
    "plt.grid(True)\n",
    "plt.gca().set_ylim(0,1)\n",
    "plt.show()"
   ]
  },
  {
   "cell_type": "markdown",
   "id": "de203c02",
   "metadata": {},
   "source": [
    "Aqui temos um pequeno sobreajuste pois a acurácia do treino é maior que da validação, mas nada muito exagerado. "
   ]
  },
  {
   "cell_type": "code",
   "execution_count": 12,
   "id": "da1f72ac",
   "metadata": {},
   "outputs": [],
   "source": [
    "model.save_weights('modelo01.h5')"
   ]
  },
  {
   "cell_type": "code",
   "execution_count": 33,
   "id": "d65745b5",
   "metadata": {},
   "outputs": [
    {
     "name": "stdout",
     "output_type": "stream",
     "text": [
      "[[0. 0. 0. 0. 0. 0. 0. 1. 0. 0.]\n",
      " [0. 0. 1. 0. 0. 0. 0. 0. 0. 0.]\n",
      " [0. 1. 0. 0. 0. 0. 0. 0. 0. 0.]\n",
      " [1. 0. 0. 0. 0. 0. 0. 0. 0. 0.]]\n"
     ]
    }
   ],
   "source": [
    "pred = model.predict(X_test[:4])\n",
    "print(pred)"
   ]
  },
  {
   "cell_type": "code",
   "execution_count": 24,
   "id": "db63eb76",
   "metadata": {},
   "outputs": [
    {
     "data": {
      "image/png": "[encoded data removed]",
      "text/plain": [
       "<Figure size 432x288 with 1 Axes>"
      ]
     },
     "metadata": {
      "needs_background": "light"
     },
     "output_type": "display_data"
    },
    {
     "name": "stdout",
     "output_type": "stream",
     "text": [
      "7\n"
     ]
    },
    {
     "data": {
      "image/png": "[encoded data removed]",
      "text/plain": [
       "<Figure size 432x288 with 1 Axes>"
      ]
     },
     "metadata": {
      "needs_background": "light"
     },
     "output_type": "display_data"
    },
    {
     "name": "stdout",
     "output_type": "stream",
     "text": [
      "2\n"
     ]
    },
    {
     "data": {
      "image/png": "[encoded data removed]",
      "text/plain": [
       "<Figure size 432x288 with 1 Axes>"
      ]
     },
     "metadata": {
      "needs_background": "light"
     },
     "output_type": "display_data"
    },
    {
     "name": "stdout",
     "output_type": "stream",
     "text": [
      "1\n"
     ]
    },
    {
     "data": {
      "image/png": "[encoded data removed]",
      "text/plain": [
       "<Figure size 432x288 with 1 Axes>"
      ]
     },
     "metadata": {
      "needs_background": "light"
     },
     "output_type": "display_data"
    },
    {
     "name": "stdout",
     "output_type": "stream",
     "text": [
      "0\n"
     ]
    }
   ],
   "source": [
    "for i in range(4):\n",
    "    num = show_numbers(i, X_test, y_test)"
   ]
  },
  {
   "cell_type": "code",
   "execution_count": null,
   "id": "6da5348f",
   "metadata": {},
   "outputs": [],
   "source": []
  }
 ],
 "metadata": {
  "kernelspec": {
   "display_name": "Python 3 (ipykernel)",
   "language": "python",
   "name": "python3"
  },
  "language_info": {
   "codemirror_mode": {
    "name": "ipython",
    "version": 3
   },
   "file_extension": ".py",
   "mimetype": "text/x-python",
   "name": "python",
   "nbconvert_exporter": "python",
   "pygments_lexer": "ipython3",
   "version": "3.9.7"
  }
 },
 "nbformat": 4,
 "nbformat_minor": 5
}
